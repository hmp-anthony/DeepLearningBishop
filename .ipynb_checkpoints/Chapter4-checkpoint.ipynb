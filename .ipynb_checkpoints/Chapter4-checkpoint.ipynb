{
 "cells": [
  {
   "cell_type": "markdown",
   "id": "5bc830e7-e910-4af7-85fd-44f5358fe4f7",
   "metadata": {},
   "source": [
    "# 4.2\n",
    "\n",
    "![alt text](Chapter4_Problem2.svg \"Problem2\")"
   ]
  },
  {
   "cell_type": "code",
   "execution_count": null,
   "id": "e238f40c-2954-468e-a87e-859bc5a23f44",
   "metadata": {},
   "outputs": [],
   "source": []
  }
 ],
 "metadata": {
  "kernelspec": {
   "display_name": "Python 3 (ipykernel)",
   "language": "python",
   "name": "python3"
  },
  "language_info": {
   "codemirror_mode": {
    "name": "ipython",
    "version": 3
   },
   "file_extension": ".py",
   "mimetype": "text/x-python",
   "name": "python",
   "nbconvert_exporter": "python",
   "pygments_lexer": "ipython3",
   "version": "3.11.2"
  }
 },
 "nbformat": 4,
 "nbformat_minor": 5
}
