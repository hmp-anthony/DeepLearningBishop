{
 "cells": [
  {
   "cell_type": "markdown",
   "id": "32770598-a99f-49df-b404-d47e29f628f5",
   "metadata": {},
   "source": [
    "# 3.4\n",
    "\n",
    "![alt text](Chapter3_Problem4.svg \"Problem4\")"
   ]
  },
  {
   "cell_type": "markdown",
   "id": "0462ac79-b702-448c-8fa5-6b06f54dcaf4",
   "metadata": {},
   "source": [
    "# 3.13\n",
    "From reading Bishops solution: One of us might have the wrong end of the stick. I think it's me. I am convinced I have answered the question correctly. \n",
    "\n",
    "![alt text](Chapter3_Problem13.svg \"Problem13\")"
   ]
  },
  {
   "cell_type": "code",
   "execution_count": null,
   "id": "3c765faa-5e4d-4b86-8477-21302e521ad4",
   "metadata": {},
   "outputs": [],
   "source": []
  }
 ],
 "metadata": {
  "kernelspec": {
   "display_name": "Python 3 (ipykernel)",
   "language": "python",
   "name": "python3"
  },
  "language_info": {
   "codemirror_mode": {
    "name": "ipython",
    "version": 3
   },
   "file_extension": ".py",
   "mimetype": "text/x-python",
   "name": "python",
   "nbconvert_exporter": "python",
   "pygments_lexer": "ipython3",
   "version": "3.11.2"
  }
 },
 "nbformat": 4,
 "nbformat_minor": 5
}
