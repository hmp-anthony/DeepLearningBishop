{
 "cells": [
  {
   "cell_type": "markdown",
   "id": "2ec089d3-dc6c-4cf1-86aa-c12bfdc4eee2",
   "metadata": {},
   "source": [
    "# Deriving (5.14)/(5.15)\n",
    "\n",
    "![alt text](Chapter5_help1.svg \"help1\")"
   ]
  },
  {
   "cell_type": "markdown",
   "id": "52f8a99e-e158-4d97-8ee8-2aa1b62c6ec8",
   "metadata": {},
   "source": [
    "# 5.3\n",
    "\n",
    "![alt text](Chapter5_Problem3.svg \"Problem3\")"
   ]
  },
  {
   "cell_type": "code",
   "execution_count": null,
   "id": "1f345be0-2035-4992-a01b-0418d524129e",
   "metadata": {},
   "outputs": [],
   "source": []
  }
 ],
 "metadata": {
  "kernelspec": {
   "display_name": "Python 3 (ipykernel)",
   "language": "python",
   "name": "python3"
  },
  "language_info": {
   "codemirror_mode": {
    "name": "ipython",
    "version": 3
   },
   "file_extension": ".py",
   "mimetype": "text/x-python",
   "name": "python",
   "nbconvert_exporter": "python",
   "pygments_lexer": "ipython3",
   "version": "3.11.2"
  }
 },
 "nbformat": 4,
 "nbformat_minor": 5
}
