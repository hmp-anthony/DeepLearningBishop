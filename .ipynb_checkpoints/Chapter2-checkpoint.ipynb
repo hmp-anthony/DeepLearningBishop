{
 "cells": [
  {
   "cell_type": "markdown",
   "id": "306d318a-d974-439d-b46c-7baade1a1af6",
   "metadata": {},
   "source": [
    "# 2.2\n",
    "![alt text](Chapter2_Problem2.png \"Problem2\")\n"
   ]
  },
  {
   "cell_type": "markdown",
   "id": "2dc85069-c92b-4fba-95bb-1c0d8447a8f6",
   "metadata": {},
   "source": [
    "# 2.3\n",
    "In this problem, my solution matches the given solution. I just go into a bit more detail becuase I am a bit rusty.\n",
    "\n",
    "![alt text](Chapter2_Problem3.png \"Problem3\")\n"
   ]
  },
  {
   "cell_type": "markdown",
   "id": "017a536a-eab1-41a4-b002-668cd1e870f3",
   "metadata": {},
   "source": [
    "Problems 2.3-2.9 are really easy. Soltuions agree with Bishops"
   ]
  },
  {
   "cell_type": "markdown",
   "id": "8c8eec7a-5d44-400e-a844-f08e23fecc11",
   "metadata": {},
   "source": [
    "# 2.10\n",
    "My solution differs slightly, in the variance component. I am quite liberal with the use of $E(2XY) = 2E(XY)$, but it is so simple to proove.\n",
    "\n",
    "![alt text](Chapter2_Problem10.png \"Problem10\")"
   ]
  },
  {
   "cell_type": "markdown",
   "id": "6da70bfd-f5db-4d96-8b8e-81747c72fd37",
   "metadata": {},
   "source": [
    "# 2.11\n",
    "\n",
    "![alt text](Chapter2_Problem11.png \"Problem11\")"
   ]
  },
  {
   "cell_type": "markdown",
   "id": "84016ed1-07ce-4c2d-94c7-431254fc18b2",
   "metadata": {},
   "source": [
    "# 2.12\n",
    "This problem is listed as having three stars. It is a very basic question for a mathematician :) My solution matches Bishop.\n",
    "# 2.13\n",
    "By following Bishops advice we get a nice expression $E[(x-\\mu)^2] = \\sigma^2$. There is another way we could have approached this, but it would require going rogue. That is, ignoring Bishops suggestions/guide. My alternative method uses integration by parts and intergration by transformation. The hardest step is to note that we can write: \n",
    "$$ \\int x^2 e^{a(x-b)^2} = \\int x \\cdot x e^{a(x-b)^2}$$\n",
    "If you manage to spot the nice expression then bishops advice is WAY better. When I first solved this problem I expanded the $(x-\\mu)^2$ under the integral and did some other things that left me doing WAY more algebra than necessary.\n",
    "# 2.14 \n",
    "Just basic calculus :)"
   ]
  },
  {
   "cell_type": "code",
   "execution_count": null,
   "id": "d72ae412-a34c-4a2b-8cba-5b780a5e6af7",
   "metadata": {},
   "outputs": [],
   "source": []
  }
 ],
 "metadata": {
  "kernelspec": {
   "display_name": "Python 3 (ipykernel)",
   "language": "python",
   "name": "python3"
  },
  "language_info": {
   "codemirror_mode": {
    "name": "ipython",
    "version": 3
   },
   "file_extension": ".py",
   "mimetype": "text/x-python",
   "name": "python",
   "nbconvert_exporter": "python",
   "pygments_lexer": "ipython3",
   "version": "3.11.2"
  }
 },
 "nbformat": 4,
 "nbformat_minor": 5
}
