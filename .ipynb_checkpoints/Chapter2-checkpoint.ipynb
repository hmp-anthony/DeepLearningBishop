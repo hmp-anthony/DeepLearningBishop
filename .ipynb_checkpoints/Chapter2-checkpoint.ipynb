{
 "cells": [
  {
   "cell_type": "markdown",
   "id": "a317ca9d-76f9-43f8-80d3-b76733b741b1",
   "metadata": {},
   "source": [
    "Overall comments on Chapter 2. Most of my solutions match that of Bishop. The ones that do not are very close. The noteable exceptions are:\n",
    "2.2\n",
    "\n",
    "Some notes on the appendix:\n",
    "The explaination of Lagrange multipliers is good enough to use the technique to solve problems, but does not really explain why it works. I would have included some \"derivation\" by following Serge Lang's book on calculus. That is, consider a curve on the constraint surface that passes through the max/min point of f on that surface. Taking the derivative we see that $\\nabla f(\\gamma(t)) \\cdot \\gamma'(t) = 0$ for all curves $\\gamma$ that satisfy the above. The Lagrange condition follows immediately. "
   ]
  },
  {
   "cell_type": "markdown",
   "id": "306d318a-d974-439d-b46c-7baade1a1af6",
   "metadata": {},
   "source": [
    "# 2.2\n",
    "![alt text](Chapter2_Problem2.png \"Problem2\")\n"
   ]
  },
  {
   "cell_type": "markdown",
   "id": "2dc85069-c92b-4fba-95bb-1c0d8447a8f6",
   "metadata": {},
   "source": [
    "# 2.3\n",
    "In this problem, my solution matches the given solution. I just go into a bit more detail becuase I am a bit rusty.\n",
    "\n",
    "![alt text](Chapter2_Problem3.png \"Problem3\")\n"
   ]
  },
  {
   "cell_type": "markdown",
   "id": "017a536a-eab1-41a4-b002-668cd1e870f3",
   "metadata": {},
   "source": [
    "Problems 2.3-2.9 are really easy. Soltuions agree with Bishops"
   ]
  },
  {
   "cell_type": "markdown",
   "id": "8c8eec7a-5d44-400e-a844-f08e23fecc11",
   "metadata": {},
   "source": [
    "# 2.10\n",
    "My solution differs slightly, in the variance component. I am quite liberal with the use of $E(2XY) = 2E(XY)$, but it is so simple to proove.\n",
    "\n",
    "![alt text](Chapter2_Problem10.png \"Problem10\")"
   ]
  },
  {
   "cell_type": "markdown",
   "id": "6da70bfd-f5db-4d96-8b8e-81747c72fd37",
   "metadata": {},
   "source": [
    "# 2.11\n",
    "\n",
    "![alt text](Chapter2_Problem11.png \"Problem11\")"
   ]
  },
  {
   "cell_type": "markdown",
   "id": "84016ed1-07ce-4c2d-94c7-431254fc18b2",
   "metadata": {},
   "source": [
    "# 2.12\n",
    "This problem is listed as having three stars. It is a very basic question for a mathematician :) My solution matches Bishop.\n",
    "# 2.13\n",
    "By following Bishops advice we get a nice expression $E[(x-\\mu)^2] = \\sigma^2$. There is another way we could have approached this, but it would require going rogue. That is, ignoring Bishops suggestions/guide. My alternative method uses integration by parts and intergration by transformation. The hardest step is to note that we can write: \n",
    "$$ \\int x^2 e^{a(x-b)^2} = \\int x \\cdot x e^{a(x-b)^2}$$\n",
    "If you manage to spot the nice expression then bishops advice is WAY better. When I first solved this problem I expanded the $(x-\\mu)^2$ under the integral and did some other things that left me doing WAY more algebra than necessary.\n",
    "# 2.14 \n",
    "Just basic calculus :), same with 2.15\n",
    "# 2.16\n",
    "All I did differently was to explicitly calculate:\n",
    "$$ E(\\sigma_{ML}^2) = \\frac{1}{N}\\sum_{n=1}^N E[(x_n - \\mu_{ML})^2] = \\frac{1}{N}\\sum_{n=1}^N E[x_n^2] - \\frac{2}{N}\\sum_{n=1}^N E[x_n\\mu_{ML}] + \\frac{1}{N}\\sum_{n=1}^N E[\\mu_{ML}^2].$$\n",
    "Paying close attention to each term. Basically, what I mean by that is $\\mu_{ML}$ is a sum of the $x_i$'s. \n",
    "\n",
    "2.17 is also a very simple application of the expected value to a sum. 2.18-2.20 also relatively easy."
   ]
  },
  {
   "cell_type": "markdown",
   "id": "8e6dadb6-416d-40f2-969a-fb7e6974774a",
   "metadata": {},
   "source": [
    "# 2.21\n",
    "Slightly different to Bishop:\n",
    "![alt text](Chapter2_Problem21.png \"Problem21\")\n",
    "I found the derivation of 2.85 a little tricky (harder than some of the problems thus far even), so here it is:\n",
    "![alt text](Chapter2_derive1.png \"derive1\")"
   ]
  },
  {
   "cell_type": "markdown",
   "id": "256e4fe3-6afd-4b64-b24d-9c04ad8f5e36",
   "metadata": {},
   "source": [
    "# 2.22\n",
    "![alt text](Chapter2_Problem22.png \"Problem22\")"
   ]
  },
  {
   "cell_type": "markdown",
   "id": "18df4c58-7826-4472-97b3-8d798a036863",
   "metadata": {},
   "source": [
    "2.23 exactly like Bishop."
   ]
  },
  {
   "cell_type": "markdown",
   "id": "be0a468a-efc8-4250-8ade-4e507e1a47d6",
   "metadata": {},
   "source": [
    "# 2.24\n",
    "I used the formula in appendix B to get the expression for $p(x)$, whereas Bishop went through things with a bit more Rigor. I went into obtaining the constants with a bit more detail.\n",
    "\n",
    "![alt text](Chapter2_Problem24.png \"Problem24\")\n",
    "\n",
    "Note there is a type in Bishops solution, see here:"
   ]
  },
  {
   "cell_type": "markdown",
   "id": "4d3a2ca5-7482-4916-b608-383fc0d665cf",
   "metadata": {},
   "source": [
    "![alt text](Chapter2_Typo1.png \"Typo1\")"
   ]
  },
  {
   "cell_type": "markdown",
   "id": "7a4fdb20-a7ff-464a-b26d-c7e52e2be0f2",
   "metadata": {},
   "source": [
    "# 2.25\n",
    "![alt text](Chapter2_Problem25.png \"Problem25\")\n",
    "# 2.26\n",
    "![alt text](Chapter2_Problem26.png \"Problem26\")"
   ]
  },
  {
   "cell_type": "markdown",
   "id": "3d581ed4-cb4e-4cf8-8998-3852e46aeb80",
   "metadata": {},
   "source": [
    "# 2.26 - Bishops Version Guide\n",
    "![alt text](Chapter2_Problem26-BishopsVersion.png \"Problem26BV\")"
   ]
  },
  {
   "cell_type": "markdown",
   "id": "a7c51e5e-7c92-4b13-80ba-cd9120695c6d",
   "metadata": {},
   "source": [
    "# 2.27 - similar to Bishop, more working out\n",
    "![alt text](Chapter2_Problem27.png \"Problem27\")"
   ]
  },
  {
   "cell_type": "markdown",
   "id": "664d6ff1-9f4a-47c7-ba84-2326b3eda7a1",
   "metadata": {},
   "source": [
    "# 2.28\n",
    "I actually prefer my solution to Bishop\n",
    "![alt text](Chapter2_Problem28.png \"Problem28\")"
   ]
  },
  {
   "cell_type": "markdown",
   "id": "56100c40-eeca-4459-9f06-cb313b0ef459",
   "metadata": {},
   "source": [
    "# 2.29\n",
    "![alt text](Chapter2_Problem29.png \"Problem29\")"
   ]
  },
  {
   "cell_type": "markdown",
   "id": "ad3230ab-23ac-4c65-9f0e-b848e07abb0d",
   "metadata": {},
   "source": [
    "![alt text](Chapter2_Problem29extra_and_30.png \"Problem29_30\")"
   ]
  },
  {
   "cell_type": "code",
   "execution_count": null,
   "id": "d9725607-aea0-4d87-8c40-31b6e189a14a",
   "metadata": {},
   "outputs": [],
   "source": []
  }
 ],
 "metadata": {
  "kernelspec": {
   "display_name": "Python 3 (ipykernel)",
   "language": "python",
   "name": "python3"
  },
  "language_info": {
   "codemirror_mode": {
    "name": "ipython",
    "version": 3
   },
   "file_extension": ".py",
   "mimetype": "text/x-python",
   "name": "python",
   "nbconvert_exporter": "python",
   "pygments_lexer": "ipython3",
   "version": "3.11.2"
  }
 },
 "nbformat": 4,
 "nbformat_minor": 5
}
