{
 "cells": [
  {
   "cell_type": "markdown",
   "id": "2e4c9233-b9b3-445b-b968-a38d67f6dc50",
   "metadata": {},
   "source": [
    "# A.27\n",
    "\n",
    "Proof plus extra :)\n",
    "\n",
    "![alt text](AppendixA_27.svg \"A.27\")"
   ]
  },
  {
   "cell_type": "code",
   "execution_count": null,
   "id": "d3d0f0ff-a6af-4ec3-b89c-81f7c19d445b",
   "metadata": {},
   "outputs": [],
   "source": []
  }
 ],
 "metadata": {
  "kernelspec": {
   "display_name": "Python 3 (ipykernel)",
   "language": "python",
   "name": "python3"
  },
  "language_info": {
   "codemirror_mode": {
    "name": "ipython",
    "version": 3
   },
   "file_extension": ".py",
   "mimetype": "text/x-python",
   "name": "python",
   "nbconvert_exporter": "python",
   "pygments_lexer": "ipython3",
   "version": "3.11.2"
  }
 },
 "nbformat": 4,
 "nbformat_minor": 5
}
