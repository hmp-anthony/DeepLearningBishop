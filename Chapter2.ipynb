{
 "cells": [
  {
   "cell_type": "markdown",
   "id": "306d318a-d974-439d-b46c-7baade1a1af6",
   "metadata": {},
   "source": [
    "# 2.2\n",
    "![alt text](Chapter2_Problem2.png \"Problem2\")\n"
   ]
  },
  {
   "cell_type": "markdown",
   "id": "2dc85069-c92b-4fba-95bb-1c0d8447a8f6",
   "metadata": {},
   "source": [
    "# 2.3\n",
    "In this problem, my solution matches the given solution. I just go into a bit more detail becuase I am a bit rusty.\n",
    "\n",
    "![alt text](Chapter2_Problem3.png \"Problem3\")\n"
   ]
  },
  {
   "cell_type": "markdown",
   "id": "017a536a-eab1-41a4-b002-668cd1e870f3",
   "metadata": {},
   "source": [
    "Problems 2.3-2.9 are really easy. Soltuions agree with Bishops"
   ]
  },
  {
   "cell_type": "markdown",
   "id": "8c8eec7a-5d44-400e-a844-f08e23fecc11",
   "metadata": {},
   "source": [
    "# 2.10\n",
    "My solution differs slightly, in the variance component. I am quite liberal with the use of $E(2XY) = 2E(XY)$, but it is so simple to proove.\n",
    "\n",
    "![alt text](Chapter2_Problem10.png \"Problem10\")\n"
   ]
  },
  {
   "cell_type": "code",
   "execution_count": null,
   "id": "e4917a34-90cd-46cc-8322-bdbf1767ac3e",
   "metadata": {},
   "outputs": [],
   "source": []
  }
 ],
 "metadata": {
  "kernelspec": {
   "display_name": "Python 3 (ipykernel)",
   "language": "python",
   "name": "python3"
  },
  "language_info": {
   "codemirror_mode": {
    "name": "ipython",
    "version": 3
   },
   "file_extension": ".py",
   "mimetype": "text/x-python",
   "name": "python",
   "nbconvert_exporter": "python",
   "pygments_lexer": "ipython3",
   "version": "3.11.2"
  }
 },
 "nbformat": 4,
 "nbformat_minor": 5
}
