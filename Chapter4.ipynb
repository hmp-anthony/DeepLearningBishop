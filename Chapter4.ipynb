{
 "cells": [
  {
   "cell_type": "markdown",
   "id": "5bc830e7-e910-4af7-85fd-44f5358fe4f7",
   "metadata": {},
   "source": [
    "# 4.2\n",
    "\n",
    "![alt text](Chapter4_Problem2.svg \"Problem2\")"
   ]
  },
  {
   "cell_type": "markdown",
   "id": "b0534943-1c37-4a1e-b9f5-8adaee34db90",
   "metadata": {},
   "source": [
    "After having a long break from maths I needed some time to fully understand going from 4.13 to 4.14\n",
    "\n",
    "![alt text](Chapter4_help1.svg \"help1\")"
   ]
  },
  {
   "cell_type": "markdown",
   "id": "73e5a455-504d-45c9-a5f1-83b65c33c1d3",
   "metadata": {},
   "source": [
    "# 4.4\n",
    "\n",
    "![alt text](Chapter4_Problem4.svg \"Problem4\")"
   ]
  },
  {
   "cell_type": "markdown",
   "id": "3377958f-f072-4fc0-9de1-c76540d22158",
   "metadata": {},
   "source": [
    "# 4.7\n",
    "\n",
    "A lot of details are missing from the solution manual!\n",
    "\n",
    "![alt text](Chapter4_Problem7.svg \"Problem7\")"
   ]
  },
  {
   "cell_type": "code",
   "execution_count": null,
   "id": "c7f41f6c-d575-4ba6-a8e2-cc66e22541d3",
   "metadata": {},
   "outputs": [],
   "source": []
  }
 ],
 "metadata": {
  "kernelspec": {
   "display_name": "Python 3 (ipykernel)",
   "language": "python",
   "name": "python3"
  },
  "language_info": {
   "codemirror_mode": {
    "name": "ipython",
    "version": 3
   },
   "file_extension": ".py",
   "mimetype": "text/x-python",
   "name": "python",
   "nbconvert_exporter": "python",
   "pygments_lexer": "ipython3",
   "version": "3.11.2"
  }
 },
 "nbformat": 4,
 "nbformat_minor": 5
}
