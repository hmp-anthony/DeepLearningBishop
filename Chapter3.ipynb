{
 "cells": [
  {
   "cell_type": "markdown",
   "id": "32770598-a99f-49df-b404-d47e29f628f5",
   "metadata": {},
   "source": [
    "# 3.4\n",
    "\n",
    "![alt text](Chapter3_Problem4.svg \"Problem4\")"
   ]
  },
  {
   "cell_type": "markdown",
   "id": "6ab9ed03-0c11-456c-b6dc-be55ce722072",
   "metadata": {},
   "source": [
    "# 3.7\n",
    "Looking at Bishops solution after completing the problem, the only difference is that I go into a lot LOT more detail. Oh and I calculated $KL(p|q)$, not $KL(q|p)$. \n",
    "\n",
    "![alt text](Chapter3_Problem7.svg \"Problem7\")"
   ]
  },
  {
   "cell_type": "markdown",
   "id": "c290c7bd-0371-4bc2-ad53-938f505a346d",
   "metadata": {},
   "source": [
    "# 3.8\n",
    "\n",
    "![alt text](Chapter3_Problem8.svg \"Problem8\")"
   ]
  },
  {
   "cell_type": "markdown",
   "id": "d31d5162-36d3-4927-83b7-aaa28adee397",
   "metadata": {},
   "source": [
    "# 3.11\n",
    "\n",
    "![alt text](Chapter3_Problem11.svg \"Problem11\")"
   ]
  },
  {
   "cell_type": "markdown",
   "id": "0462ac79-b702-448c-8fa5-6b06f54dcaf4",
   "metadata": {},
   "source": [
    "# 3.13\n",
    "From reading Bishops solution: One of us might have the wrong end of the stick. I think it's me. I am convinced I have answered the question correctly. \n",
    "\n",
    "![alt text](Chapter3_Problem13.svg \"Problem13\")"
   ]
  },
  {
   "cell_type": "markdown",
   "id": "4326a67d-1cf9-4c3a-8d51-32756afeee33",
   "metadata": {},
   "source": [
    "# 3.14\n",
    "\n",
    "![alt text](Chapter3_Problem14.svg \"Problem14\")"
   ]
  },
  {
   "cell_type": "code",
   "execution_count": null,
   "id": "3badb76e-1b53-4dd7-880c-c0343df77f16",
   "metadata": {},
   "outputs": [],
   "source": []
  }
 ],
 "metadata": {
  "kernelspec": {
   "display_name": "Python 3 (ipykernel)",
   "language": "python",
   "name": "python3"
  },
  "language_info": {
   "codemirror_mode": {
    "name": "ipython",
    "version": 3
   },
   "file_extension": ".py",
   "mimetype": "text/x-python",
   "name": "python",
   "nbconvert_exporter": "python",
   "pygments_lexer": "ipython3",
   "version": "3.11.2"
  }
 },
 "nbformat": 4,
 "nbformat_minor": 5
}
