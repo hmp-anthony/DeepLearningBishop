{
 "cells": [
  {
   "cell_type": "markdown",
   "id": "2ec089d3-dc6c-4cf1-86aa-c12bfdc4eee2",
   "metadata": {},
   "source": [
    "# Deriving (5.14)/(5.15)\n",
    "\n",
    "![alt text](Chapter5_help1.svg \"help1\")"
   ]
  },
  {
   "cell_type": "markdown",
   "id": "52f8a99e-e158-4d97-8ee8-2aa1b62c6ec8",
   "metadata": {},
   "source": [
    "# 5.3\n",
    "\n",
    "![alt text](Chapter5_Problem3.svg \"Problem3\")"
   ]
  },
  {
   "cell_type": "markdown",
   "id": "ba3c817b-e5d5-4c62-96d2-cfb390113d8b",
   "metadata": {},
   "source": [
    "# 5.4\n",
    "\n",
    "![alt text](Chapter5_Problem4.svg \"Problem4\")"
   ]
  },
  {
   "cell_type": "markdown",
   "id": "a8f6114d-c284-4ae0-9fa2-f2118fe0e47a",
   "metadata": {},
   "source": [
    "# 5.6\n",
    "\n",
    "![alt text](Chapter5_Problem6.svg \"Problem6\")"
   ]
  },
  {
   "cell_type": "code",
   "execution_count": null,
   "id": "b0d4d304-0849-409b-944b-e294d88949de",
   "metadata": {},
   "outputs": [],
   "source": []
  }
 ],
 "metadata": {
  "kernelspec": {
   "display_name": "Python 3 (ipykernel)",
   "language": "python",
   "name": "python3"
  },
  "language_info": {
   "codemirror_mode": {
    "name": "ipython",
    "version": 3
   },
   "file_extension": ".py",
   "mimetype": "text/x-python",
   "name": "python",
   "nbconvert_exporter": "python",
   "pygments_lexer": "ipython3",
   "version": "3.11.2"
  }
 },
 "nbformat": 4,
 "nbformat_minor": 5
}
