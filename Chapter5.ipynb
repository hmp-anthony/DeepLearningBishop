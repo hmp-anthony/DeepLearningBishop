{
 "cells": [
  {
   "cell_type": "markdown",
   "id": "2ec089d3-dc6c-4cf1-86aa-c12bfdc4eee2",
   "metadata": {},
   "source": [
    "# Deriving (5.14)/(5.15)\n",
    "\n",
    "![alt text](Chapter5_help1.svg \"help1\")"
   ]
  },
  {
   "cell_type": "code",
   "execution_count": null,
   "id": "3a094691-a4e1-417b-8b59-ea69365a3675",
   "metadata": {},
   "outputs": [],
   "source": []
  }
 ],
 "metadata": {
  "kernelspec": {
   "display_name": "Python 3 (ipykernel)",
   "language": "python",
   "name": "python3"
  },
  "language_info": {
   "codemirror_mode": {
    "name": "ipython",
    "version": 3
   },
   "file_extension": ".py",
   "mimetype": "text/x-python",
   "name": "python",
   "nbconvert_exporter": "python",
   "pygments_lexer": "ipython3",
   "version": "3.11.2"
  }
 },
 "nbformat": 4,
 "nbformat_minor": 5
}
